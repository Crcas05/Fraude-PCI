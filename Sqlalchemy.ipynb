{
  "nbformat": 4,
  "nbformat_minor": 0,
  "metadata": {
    "colab": {
      "private_outputs": true,
      "provenance": [],
      "toc_visible": true,
      "authorship_tag": "ABX9TyOq34892Eap8KeQSXtWYB1C",
      "include_colab_link": true
    },
    "kernelspec": {
      "name": "python3",
      "display_name": "Python 3"
    },
    "language_info": {
      "name": "python"
    }
  },
  "cells": [
    {
      "cell_type": "markdown",
      "metadata": {
        "id": "view-in-github",
        "colab_type": "text"
      },
      "source": [
        "<a href=\"https://colab.research.google.com/github/Crcas05/Fraude-PCI/blob/main/Sqlalchemy.ipynb\" target=\"_parent\"><img src=\"https://colab.research.google.com/assets/colab-badge.svg\" alt=\"Open In Colab\"/></a>"
      ]
    },
    {
      "cell_type": "code",
      "source": [
        "import pandas as pd\n",
        "from sqlalchemy import create_engine, text\n",
        "\n",
        "pd.set_option('display.max_columns', 50) # Muestra las columnas\n",
        "pd.set_option('display.width', 1000) # Muestra las 6 columnas en nuestro ejemplo\n",
        "pd.set_option('display.max_rows', None) # Muestra filas sin limite\n",
        "\n",
        "# Paso 1: Verificar que el archivo subido está\n",
        "!ls\n",
        "\n",
        "# Paso 2: Crear conexión con el nombre correcto del archivo subido\n",
        "engine = create_engine(\"sqlite:///sesion1 (1).db\")\n",
        "\n",
        "# Paso 3: Ver qué tablas contiene la base\n",
        "with engine.connect() as conn:\n",
        "    tablas = conn.exec_driver_sql(\"SELECT name FROM sqlite_master WHERE type='table';\")\n",
        "    print(\"Tablas disponibles:\")\n",
        "    print(tablas.fetchall())\n",
        "\n",
        "# Paso 4: Probar una consulta básica\n",
        "with engine.connect() as conn:\n",
        "    query = text(\"SELECT * FROM clientes LIMIT 5;\")\n",
        "    resultado = conn.execute(query)\n",
        "    for fila in resultado:\n",
        "        print(fila)\n",
        "\n",
        "# Leer los datos directamente desde SQL\n",
        "df = pd.read_sql(\"SELECT * FROM clientes WHERE ciudad = 'Arequipa';\", con=engine)\n",
        "\n",
        "# Mostrar los resultados\n",
        "print(df.head())"
      ],
      "metadata": {
        "id": "UWj4ZgsX7rDf"
      },
      "execution_count": null,
      "outputs": []
    },
    {
      "cell_type": "code",
      "source": [
        "import pandas as pd\n",
        "from sqlalchemy import create_engine, text, bindparam\n",
        "\n",
        "# Conexión\n",
        "engine = create_engine(\"sqlite:///sesion1 (1).db\", echo=False, future=True)\n",
        "\n",
        "# Consulta SQL\n",
        "query = text(\"SELECT * FROM clientes \")\n",
        "\n",
        "# Ejecutar y cargar en un DataFrame\n",
        "with engine.connect() as conn:\n",
        "    consulta1 = pd.read_sql(query, conn)\n",
        "\n",
        "# Mostrar el resultado\n",
        "print(consulta1)\n"
      ],
      "metadata": {
        "collapsed": true,
        "id": "E7EP39EZ8Hw_"
      },
      "execution_count": null,
      "outputs": []
    },
    {
      "cell_type": "code",
      "source": [
        "consulta1.head()"
      ],
      "metadata": {
        "collapsed": true,
        "id": "aNhYcgUB83AX"
      },
      "execution_count": null,
      "outputs": []
    },
    {
      "cell_type": "code",
      "source": [
        "# Consulta a la BD los pedidos con un monto total menor a 100\n",
        "query = text (\n",
        "    \"SELECT * FROM pedidos WHERE total < 100 ORDER BY total ASC\"\n",
        "    )\n",
        "\n",
        "with engine.connect () as conn:\n",
        "  consulta2 = pd.read_sql(query, conn)\n",
        "\n",
        "print(consulta2)"
      ],
      "metadata": {
        "collapsed": true,
        "id": "pUBYv3aeAkjH"
      },
      "execution_count": null,
      "outputs": []
    },
    {
      "cell_type": "code",
      "source": [
        "consulta2.info()"
      ],
      "metadata": {
        "id": "0M3sCpmUCgB1"
      },
      "execution_count": null,
      "outputs": []
    },
    {
      "cell_type": "markdown",
      "source": [
        "# CONSULTA PERSONALIZADA"
      ],
      "metadata": {
        "id": "N6GjAjMuCqxM"
      }
    },
    {
      "cell_type": "markdown",
      "source": [
        "# Programa que le pregunte al usuario a que ciudad quiere fltrar y Python consulte dichos registros."
      ],
      "metadata": {
        "id": "AOraXtdeC7MM"
      }
    },
    {
      "cell_type": "code",
      "source": [
        "ciudad_seleccionada = input(\"Ingrese el nombre de la Ciudad\\n\")\n",
        "query = text(\n",
        "    f\"SELECT * FROM clientes WHERE ciudad = '{ciudad_seleccionada}'\"\n",
        ")\n",
        "\n",
        "with engine.connect() as conn:\n",
        "  consulta3 = pd.read_sql(query, conn)\n",
        "\n",
        "print(consulta3)\n"
      ],
      "metadata": {
        "collapsed": true,
        "id": "rb8e9QEbCt48"
      },
      "execution_count": null,
      "outputs": []
    },
    {
      "cell_type": "code",
      "source": [
        "consulta3"
      ],
      "metadata": {
        "id": "XsxoLTCRKA75"
      },
      "execution_count": null,
      "outputs": []
    },
    {
      "cell_type": "markdown",
      "source": [
        "# VAMOS HALLAR VALORES UNICOS DE NUESTRA TABLA CLIENTE\n"
      ],
      "metadata": {
        "id": "wJ8IULpYGpx3"
      }
    },
    {
      "cell_type": "code",
      "source": [
        "query = text(\"SELECT DISTINCT ciudad FROM clientes\")\n",
        "\n",
        "with engine.connect() as conn:\n",
        "  ciudades = pd.read_sql(query, conn)\n",
        "\n",
        "print(ciudades)"
      ],
      "metadata": {
        "id": "RV6V5sMiGwmu"
      },
      "execution_count": null,
      "outputs": []
    },
    {
      "cell_type": "code",
      "source": [
        "ciudades.values"
      ],
      "metadata": {
        "id": "7AVjw-5WHm5t"
      },
      "execution_count": null,
      "outputs": []
    },
    {
      "cell_type": "code",
      "source": [
        "from sqlalchemy import text\n",
        "\n",
        "ciudad_seleccionada = input(\"Ingrese el nombre de la Ciudad:\\n\").title()\n",
        "\n",
        "query = text(\"SELECT * FROM clientes WHERE ciudad = :ciudad\")\n",
        "\n",
        "with engine.connect() as conn:\n",
        "    consulta3 = pd.read_sql(query, conn, params={\"ciudad\": ciudad_seleccionada})\n",
        "\n",
        "print(f\"Se importaron {len(consulta3)} filas\")\n"
      ],
      "metadata": {
        "id": "GSN1mWwsI8c7"
      },
      "execution_count": null,
      "outputs": []
    },
    {
      "cell_type": "code",
      "source": [
        "consulta3"
      ],
      "metadata": {
        "id": "JAlS-0coOkvL"
      },
      "execution_count": null,
      "outputs": []
    }
  ]
}